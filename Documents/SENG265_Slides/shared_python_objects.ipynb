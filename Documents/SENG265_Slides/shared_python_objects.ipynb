{
 "cells": [
  {
   "attachments": {},
   "cell_type": "markdown",
   "metadata": {},
   "source": [
    "# (Object-Oriented) Python\n",
    "\n",
    "Everything in Python is really an object.\n",
    "We′ve seen hints of this already…\n",
    "\n",
    "    ″hello″.upper()\n",
    "    list3.append(′a′)\n",
    "    dict2.keys()\n",
    "    \n",
    "These look like Java or C++ method calls.\n",
    "New object classes can easily be defined in addition to these built-in data-types.\n",
    "\n",
    "### Definitions\n",
    "\n",
    "    The class also stores some data items that are shared by all the instances of this class.\n",
    "\n",
    "    Instances are objects that are created which follow the definition given inside the class.\n",
    "\n",
    "## Methods in Classes\n",
    "\n",
    "\n",
    "    Define a method in a class by including function definitions within the scope of the class block.\n",
    "    There must be a special first argument self in all method definitions which gets bound to the calling instance\n",
    "    There is usually a special method called __init__ in most classes\n",
    "\n",
    "\n",
    "\n",
    "\n"
   ]
  },
  {
   "cell_type": "code",
   "execution_count": null,
   "metadata": {},
   "outputs": [],
   "source": [
    "class Student:\n",
    "    def __init__(self, n, a):\n",
    "        self.full_name = n\n",
    "        self.age = a\n",
    "    def get_age(self):\n",
    "        return self.age\n",
    "    \n",
    "b=Student(\"Bob\", 21)\n",
    "print(b.age)\n"
   ]
  },
  {
   "attachments": {},
   "cell_type": "markdown",
   "metadata": {},
   "source": [
    "# Attributes\n",
    "   \n",
    "Two Kinds of Attributes\n",
    "   \n",
    "### Data attributes\n",
    "    Variable owned by a particular instance of a class.\n",
    "    Each instance has its own value for it.\n",
    "    These are the most common kind of attribute\n",
    "\n",
    "### Class attributes\n",
    "    Owned by the class as a whole.  \n",
    "    All instances of the class share the same value for it.\n",
    "    Good for class-wide constants, e.g. building counter of how many instances of the class have been made\n",
    "    \n",
    "    \n",
    "### Data attributes \n",
    "    Are created and initialized by an __init__() method.\n",
    "    Simply assigning to a name creates the attribute.\n",
    "    Inside the class, refer to data attributes using self\n",
    "\n",
    "\n",
    "## Class Attributes \n",
    "\n",
    "    When any instance changes it, the value is changed for all instances.\n",
    "    Class attributes are defined  within a class definition outside of any method\n",
    "    Access class attributes using self.__class__.name notation!\n"
   ]
  },
  {
   "cell_type": "code",
   "execution_count": 14,
   "metadata": {
    "collapsed": true
   },
   "outputs": [
    {
     "name": "stdout",
     "output_type": "stream",
     "text": [
      "24\n",
      "2\n"
     ]
    }
   ],
   "source": [
    "class Sample:\n",
    "    x = 23 # class attribute\n",
    "    def increment(self):\n",
    "        self.__class__.x += 1\n",
    "        self.y = 2 # data attribute\n",
    "\n",
    "        \n",
    "a=Sample()\n",
    "a.increment()\n",
    "print(a.__class__.x)\n",
    "print(a.y)"
   ]
  },
  {
   "cell_type": "code",
   "execution_count": 18,
   "metadata": {
    "collapsed": true
   },
   "outputs": [
    {
     "name": "stdout",
     "output_type": "stream",
     "text": [
      "a.my_total: 1\n",
      "a.__class__.overall_total: 3\n"
     ]
    }
   ],
   "source": [
    "class counter:\n",
    "    overall_total = 0  # class attribute \n",
    "    def __init__(self):\n",
    "        self.my_total = 0 # data attribute\n",
    "\n",
    "    def increment(self):\n",
    "       counter.overall_total = counter.overall_total + 1\n",
    "       self.my_total = self.my_total + 1\n",
    "\n",
    "       \n",
    "a = counter()\n",
    "b = counter()\n",
    "a.increment()\n",
    "b.increment()\n",
    "b.increment()\n",
    "\n",
    "\n",
    "print(\"a.my_total:\", a.my_total)\n",
    "#print(\"a.__class__.overall_total:\", a.__class__.overall_total)\n",
    "#print(\"b.my_total: \", b.my_total)\n",
    "#print(\"b.__class__.overall_total:\", b.__class__.overall_total)\n",
    "\n",
    "    "
   ]
  },
  {
   "cell_type": "code",
   "execution_count": null,
   "metadata": {
    "collapsed": true
   },
   "outputs": [],
   "source": []
  }
 ],
 "metadata": {
  "kernelspec": {
   "display_name": "Python 3",
   "language": "python",
   "name": "python3"
  },
  "language_info": {
   "codemirror_mode": {
    "name": "ipython",
    "version": 3
   },
   "file_extension": ".py",
   "mimetype": "text/x-python",
   "name": "python",
   "nbconvert_exporter": "python",
   "pygments_lexer": "ipython3",
   "version": "3.6.3"
  }
 },
 "nbformat": 4,
 "nbformat_minor": 2
}
